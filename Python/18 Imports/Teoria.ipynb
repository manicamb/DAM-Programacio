{
 "cells": [
  {
   "cell_type": "markdown",
   "metadata": {},
   "source": [
    "<div style=\"display: flex; width: 100%;\">\n",
    "    <div style=\"flex: 1; padding: 0px;\">\n",
    "        <p>© Albert Palacios Jiménez, 2023</p>\n",
    "    </div>\n",
    "    <div style=\"flex: 1; padding: 0px; text-align: right;\">\n",
    "        <img src=\"../assets/ieti.png\" height=\"32\" alt=\"Logo de IETI\" style=\"max-height: 32px;\">\n",
    "    </div>\n",
    "</div>\n",
    "<hr/>"
   ]
  },
  {
   "cell_type": "markdown",
   "metadata": {},
   "source": [
    "# Imports (mòduls)\n",
    "\n",
    "Python permet importar codi definit a altres arxius .py, per fer-ho hem de fer servir 'import'\n",
    "\n",
    "import \"imports_extra.py\"\n",
    "\n",
    "Per ser compatibles, els arxius:\n",
    "\n",
    "- No poden començar en número\n",
    "- No poden tenir majúscules ni espais\n",
    "\n",
    "Els arxius .py preparats per ser importats s'anomenen **mòduls**."
   ]
  },
  {
   "cell_type": "code",
   "execution_count": null,
   "metadata": {},
   "outputs": [],
   "source": [
    "import imports_extra\n",
    "\n",
    "print(imports_extra.llista)"
   ]
  },
  {
   "cell_type": "markdown",
   "metadata": {},
   "source": [
    "### Imports amb 'as' (àlies)\n",
    "\n",
    "Si no es vol fer servir el nom del mòdul cada vegada que es vol referenciar un element de l'arxiu, es pot fer servir un àlies per diferenciar el mòdul d'un altre, o simplificar el seu nom."
   ]
  },
  {
   "cell_type": "code",
   "execution_count": null,
   "metadata": {},
   "outputs": [],
   "source": [
    "import imports_extra as ie\n",
    "\n",
    "print(ie.sumaTres(1,2,3))"
   ]
  },
  {
   "cell_type": "markdown",
   "metadata": {},
   "source": [
    "### Importar parts d'un mòdul\n",
    "\n",
    "from \"modul\" import \"element\" as \"identificador\""
   ]
  },
  {
   "cell_type": "code",
   "execution_count": null,
   "metadata": {},
   "outputs": [],
   "source": [
    "from imports_extra import comptaLletres\n",
    "\n",
    "print(comptaLletres(\"hola\"))\n"
   ]
  },
  {
   "cell_type": "markdown",
   "metadata": {},
   "source": [
    "### Importar totes les funcions d'un mòdul\n",
    "\n",
    "```python\n",
    "from \"modul\" import *\n",
    "```"
   ]
  },
  {
   "cell_type": "markdown",
   "metadata": {},
   "source": [
    "### Reloading de mòduls ja carregats\n",
    "\n",
    "La llibreria 'importlib' permet carregar mòduls que ja s'han carregat \n",
    "\n",
    "import importlib\n",
    "importlib.reload(imports_extra)"
   ]
  },
  {
   "cell_type": "code",
   "execution_count": null,
   "metadata": {},
   "outputs": [],
   "source": [
    "import importlib\n",
    "importlib.reload(imports_extra)"
   ]
  },
  {
   "cell_type": "markdown",
   "metadata": {},
   "source": [
    "### Prevenir errors durant la càrrega amb 'try', 'except'\n",
    "\n",
    "```python\n",
    "try:\n",
    "    import some_module\n",
    "except ImportError as e:\n",
    "    print(f\"Error en importar el mòdul: {e}\")\n",
    "```\n",
    "Si hi ha un error, la llibreria no estarà disponible però el nostre programa no fallarà durant la càrrega"
   ]
  },
  {
   "cell_type": "code",
   "execution_count": null,
   "metadata": {},
   "outputs": [],
   "source": [
    "try:\n",
    "    import some_module_name\n",
    "except ImportError as e:\n",
    "    print(f\"Error en importar el mòdul: {e}\")"
   ]
  },
  {
   "cell_type": "markdown",
   "metadata": {},
   "source": [
    "## Paquets\n",
    "\n",
    "Els paquets són conjunts de mòduls que es poden importar.\n",
    "\n",
    "Per definir un paquet, cal crear un directori i els mòduls .py que es volen al paquet:\n",
    "\n",
    "```text\n",
    "pkgPoligons/\n",
    "    __init__.py\n",
    "    poligon.py\n",
    "    rectangle.py\n",
    "    triangle.py\n",
    "```\n",
    "\n",
    "Quan es fa un import d'un paquet, el codi de l'arxiu \\_\\_init\\_\\_.py s'executa.\n",
    "\n",
    "```python\n",
    "import pkgPoligons\n",
    "```\n",
    "\n",
    "També es poden importar mòduls dins d'un paquet:\n",
    "\n",
    "```python\n",
    "from pkgPoligons import rectangle\n",
    "```\n",
    "\n",
    "És equivalent a:\n",
    "\n",
    "```python\n",
    "import pkgPoligons.rectangle\n",
    "```\n",
    "\n",
    "**Important**: Hi poden haber paquets dins d'altres paquets.\n",
    "\n",
    "Per evitar conflictes de noms, es pot fer servir 'as' per renombrar els paquets:\n",
    "\n",
    "```python\n",
    "import pkgPoligons as poligons\n",
    "```"
   ]
  },
  {
   "cell_type": "markdown",
   "metadata": {},
   "source": [
    "### Arxiu \\_\\_init\\_\\_.py\n",
    "\n",
    "La carpeta del paquet pot contenir l'arxiu \\_\\_init\\_\\_.py, que s'executa cada vegada que es fa un import del paquet.\n",
    "\n",
    "Aquest arxiu pot contenir codi per inicialitzar el paquet, per exemple, per importar mòduls del paquet:\n",
    "\n",
    "```python\n",
    "from . import poligon\n",
    "from . import rectangle\n",
    "from . import triangle\n",
    "```\n",
    "\n",
    "**Nota**: Des de python3 ja no és obligatori un arxiu __init__.py però si recomanable."
   ]
  },
  {
   "cell_type": "markdown",
   "metadata": {},
   "source": [
    "## Carpetes on guardar els paquets\n",
    "\n",
    "Python té accés a les carpetes de la seva instal·lació, i a les carpetes locals on s'està executant el codi.\n",
    "\n",
    "Per aquest motiu:\n",
    "\n",
    "- Si volem que els paquets estiguin disponibles per tots els programes, cal instal·lar-los a les carpetes globals de python.\n",
    "- Si volem que els paquets estiguin disponibles només per un programa, cal instal·lar-los a la carpeta del programa.\n"
   ]
  },
  {
   "cell_type": "code",
   "execution_count": null,
   "metadata": {},
   "outputs": [],
   "source": [
    "# Exemple de mostrar les carpetes on es busquen els mòduls (locals i globals)\n",
    "import sys\n",
    "folders = sys.path\n",
    "folders.sort()\n",
    "for folder in folders:\n",
    "    print(f\"'{folder}'\")"
   ]
  }
 ],
 "metadata": {
  "kernelspec": {
   "display_name": "Python 3",
   "language": "python",
   "name": "python3"
  },
  "language_info": {
   "codemirror_mode": {
    "name": "ipython",
    "version": 3
   },
   "file_extension": ".py",
   "mimetype": "text/x-python",
   "name": "python",
   "nbconvert_exporter": "python",
   "pygments_lexer": "ipython3",
   "version": "3.12.2"
  }
 },
 "nbformat": 4,
 "nbformat_minor": 2
}
