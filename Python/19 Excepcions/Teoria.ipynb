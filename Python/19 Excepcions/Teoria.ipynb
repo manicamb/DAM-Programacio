{
 "cells": [
  {
   "cell_type": "markdown",
   "metadata": {},
   "source": [
    "<div style=\"display: flex; width: 100%;\">\n",
    "    <div style=\"flex: 1; padding: 0px;\">\n",
    "        <p>© Albert Palacios Jiménez, 2023</p>\n",
    "    </div>\n",
    "    <div style=\"flex: 1; padding: 0px; text-align: right;\">\n",
    "        <img src=\"../assets/ieti.png\" height=\"32\" alt=\"Logo de IETI\" style=\"max-height: 32px;\">\n",
    "    </div>\n",
    "</div>\n",
    "<hr/>"
   ]
  },
  {
   "cell_type": "markdown",
   "metadata": {},
   "source": [
    "# Excepcions i tractament d'errors\n",
    "\n",
    "Els llenguatges de programació ens permeten controlar cassos excepcionals, per evitar que el codi deixi de funcionar si es produeixen errors."
   ]
  },
  {
   "cell_type": "markdown",
   "metadata": {},
   "source": [
    "## try-except\n",
    "\n",
    "És la manera habitual de controlar excepcions en Python:\n",
    "\n",
    "```python\n",
    "try:\n",
    "    # Codi que pot provocar una excepció\n",
    "except NomExcepcio as e:\n",
    "    # Codi que s'executa si es produeix l'excepció\n",
    "```\n",
    "\n",
    "Cal tenir en compte que el codi que pot provocar l'excepció deixarà de funcionar si es produeix l'excepció.\n",
    "\n",
    "En el moment que es produeix una excepció, el codi que s'executa és el que està dins del bloc `except`.\n",
    "\n",
    "Hi ha casos en que podem controlar diferents tipus d'excepcions coneguts. Per poder informar o actuar de manera diferent en cada cas:\n",
    "\n",
    "```python\n",
    "try:\n",
    "    # Codi...\n",
    "except FileNotFoundError:\n",
    "    # Gestionar l'excepció de fitxer no trobat\n",
    "except ValueError:\n",
    "    # Gestionar una excepció de valor\n",
    "except Exception as e:\n",
    "    # Gestionar qualsevol altra excepció\n",
    "```"
   ]
  },
  {
   "cell_type": "code",
   "execution_count": 1,
   "metadata": {},
   "outputs": [
    {
     "name": "stdout",
     "output_type": "stream",
     "text": [
      "Error: No es pot dividir per zero.\n"
     ]
    }
   ],
   "source": [
    "# Exemple, controlar l'entrada de dades i divisions per zero\n",
    "try:\n",
    "    # Demanem dos números a l'usuari\n",
    "    num1 = input(\"Introdueix el numerador: \")\n",
    "    num2 = input(\"Introdueix el denominador: \")\n",
    "\n",
    "    # Convertim els inputs a enters\n",
    "    num1 = int(num1)\n",
    "    num2 = int(num2)\n",
    "\n",
    "    # Fem la divisió\n",
    "    resultat = num1 / num2\n",
    "    print(f\"El resultat de la divisió és {resultat}\")\n",
    "\n",
    "except ZeroDivisionError:\n",
    "    # Gestionar la divisió per zero\n",
    "    print(\"Error: No es pot dividir per zero.\")\n",
    "\n",
    "except ValueError:\n",
    "    # Gestionar l'error si l'input no és un número\n",
    "    print(\"Error: Si us plau, introdueix un número vàlid.\")\n",
    "\n",
    "except Exception as e:\n",
    "    # Gestionar qualsevol altra excepció\n",
    "    print(f\"Error inesperat: {e}\")\n"
   ]
  },
  {
   "cell_type": "markdown",
   "metadata": {},
   "source": [
    "## try-except-else-finally\n",
    "\n",
    "Python té dues comandes **else** i **finally** per treballar un cop ha acabat el codi que pot provocar excepcions:\n",
    "\n",
    "- **else** s'ececuta si no hi ha hagut cap excepció\n",
    "- **finally** s'executa sempre, tant si hi ha hagut excepció com si no\n",
    "\n",
    "```python\n",
    "try:\n",
    "    # Codi...\n",
    "except NomExcepcio:\n",
    "    # Gestionar l'excepció\n",
    "else:\n",
    "    # Codi a executar si no hi ha excepcions\n",
    "finally:\n",
    "    # Codi a executar sempre\n",
    "```"
   ]
  },
  {
   "cell_type": "code",
   "execution_count": null,
   "metadata": {},
   "outputs": [],
   "source": [
    "# Exemple, controlar l'índex d'una llista\n",
    "def controlar_llista(elements, index):\n",
    "    resultat = 0\n",
    "    try:\n",
    "        # Intentem accedir a un element de la llista i dividir per 2\n",
    "        resultat = elements[index] / 2\n",
    "    except IndexError:\n",
    "        # Gestionar l'excepció si l'índex no està dins dels límits de la llista\n",
    "        print(\"Error: L'índex està fora dels límits de la llista.\")\n",
    "    except TypeError:\n",
    "        # Gestionar l'excepció si l'element no és un número\n",
    "        print(\"Error: L'element de la llista no és un número.\")\n",
    "    except Exception as e:\n",
    "        # Gestionar qualsevol altra excepció inesperada\n",
    "        print(f\"Error inesperat: {e}\")\n",
    "    else:\n",
    "        # Codi a executar si no hi ha excepcions\n",
    "        print(f\"L'operació ha estat exitosa. El resultat és {resultat}.\")\n",
    "    finally:\n",
    "        # Codi a executar sempre, per exemple, per mostrar el final del procés\n",
    "        print(\"Procés finalitzat.\")\n",
    "    return resultat\n",
    "\n",
    "controlar_llista([2, 4, 6, 8, 10], 2)\n",
    "controlar_llista([2, 4, 6, 8, 10], 22)\n",
    "controlar_llista([2, 4, 6, 'a', 10], 3)"
   ]
  },
  {
   "cell_type": "markdown",
   "metadata": {},
   "source": [
    "## raise\n",
    "\n",
    "Amb **raise** podem provocar una excepció de manera intencionada.\n",
    "\n",
    "Si **raise** no està dins d'un bloc **try-except** el programa s'aturarà i mostrarà l'excepció.\n"
   ]
  },
  {
   "cell_type": "code",
   "execution_count": null,
   "metadata": {},
   "outputs": [],
   "source": [
    "# Exemple de llançar una excepció sense gestionar-la\n",
    "def verifica_edat(edat):\n",
    "    if edat < 18:\n",
    "        raise ValueError(\"Accés denegat. Cal tenir almenys 18 anys.\")\n",
    "    else:\n",
    "        print(\"Accés permès.\")\n",
    "\n",
    "verifica_edat(16)\n",
    "print(\"fi\") # Aquest codi no s'executarà perquè l'excepció no s'ha gestionat"
   ]
  },
  {
   "cell_type": "code",
   "execution_count": null,
   "metadata": {},
   "outputs": [],
   "source": [
    "# Exemple de llançar una excepció controlada amb try/except\n",
    "def verifica_edat(edat):\n",
    "    if edat < 18:\n",
    "        raise ValueError(\"Accés denegat. Cal tenir almenys 18 anys.\")\n",
    "    else:\n",
    "        print(\"Accés permès.\")\n",
    "\n",
    "try:\n",
    "    verifica_edat(16)\n",
    "except ValueError as e:\n",
    "    print(e)\n",
    "\n",
    "print(\"fi\")\n"
   ]
  },
  {
   "cell_type": "code",
   "execution_count": null,
   "metadata": {},
   "outputs": [],
   "source": [
    "# Exemple de llançar una excepció controlada amb try/except/else\n",
    "def suma_positius(a, b):\n",
    "    if a < 0 or b < 0:\n",
    "        raise ValueError(\"Només són permesos números positius.\")\n",
    "    return a + b\n",
    "\n",
    "try:\n",
    "    resultat = suma_positius(10, -5)\n",
    "except ValueError as e:\n",
    "    print(e)\n",
    "else:\n",
    "    print(f\"Resultat: {resultat}\")\n"
   ]
  }
 ],
 "metadata": {
  "kernelspec": {
   "display_name": "Python 3",
   "language": "python",
   "name": "python3"
  },
  "language_info": {
   "codemirror_mode": {
    "name": "ipython",
    "version": 3
   },
   "file_extension": ".py",
   "mimetype": "text/x-python",
   "name": "python",
   "nbconvert_exporter": "python",
   "pygments_lexer": "ipython3",
   "version": "3.9.6"
  }
 },
 "nbformat": 4,
 "nbformat_minor": 2
}
