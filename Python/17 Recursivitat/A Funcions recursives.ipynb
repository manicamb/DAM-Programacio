{
 "cells": [
  {
   "cell_type": "markdown",
   "metadata": {},
   "source": [
    "<div style=\"display: flex; width: 100%;\">\n",
    "    <div style=\"flex: 1; padding: 0px;\">\n",
    "        <p>© Albert Palacios Jiménez, 2023</p>\n",
    "    </div>\n",
    "    <div style=\"flex: 1; padding: 0px; text-align: right;\">\n",
    "        <img src=\"../assets/ieti.png\" height=\"32\" alt=\"Logo de IETI\" style=\"max-height: 32px;\">\n",
    "    </div>\n",
    "</div>\n",
    "<hr/>"
   ]
  },
  {
   "cell_type": "markdown",
   "metadata": {},
   "source": [
    "## Funcions recursives\n",
    "\n",
    "S'anomenen recursives a aquelles funcions que es criden a elles mateixes.\n",
    "\n",
    "**Important**: Tota funció recursiva ha de tenir un cas base, és a dir, un cas en el que no es cridi a ella mateixa per evitar que la funció s'executi indefinidament."
   ]
  },
  {
   "cell_type": "markdown",
   "metadata": {},
   "source": [
    "## Funció 'factorial'\n",
    "\n",
    "El factorial d'un numero 'n' és el producte dels numeros consecutius des de 1 fins a 'n'. \n",
    "\n",
    "Per exemple:\n",
    "\n",
    "El factorial de 5, s'escriu $5! = 5 \\cdot 4 \\cdot 3 \\cdot 2 \\cdot 1 = 120$.\n",
    "```text\n",
    "5! = 5 * 4! \n",
    "5! = 5 * 4 * 3! \n",
    "5! = 5 * 4 * 3 * 2! \n",
    "5! = 5 * 4 * 3 * 2 * 1! \n",
    "5! = 5 * 4 * 3 * 2 * 1 * 0!\n",
    "```\n",
    "Fixeu-vos que la funció que calcula factorial(5) ha de retornar 5 * factorial(4), és a dir es crida a ella mateixa."
   ]
  },
  {
   "cell_type": "code",
   "execution_count": 3,
   "metadata": {},
   "outputs": [
    {
     "name": "stdout",
     "output_type": "stream",
     "text": [
      "Factorial de 5, 5! = $120\n",
      "Factorial de 10, 10! = $3628800\n"
     ]
    }
   ],
   "source": [
    "# Exemple, funció Factorial\n",
    "\n",
    "def factorial(n):\n",
    "    if n == 0:\n",
    "        return 1\n",
    "    else:\n",
    "        return n * factorial(n-1)\n",
    "    \n",
    "print(f\"Factorial de 5, 5! = ${factorial(5)}\")\n",
    "print(f\"Factorial de 10, 10! = ${factorial(10)}\")"
   ]
  },
  {
   "cell_type": "markdown",
   "metadata": {},
   "source": [
    "## Exercici 0\n",
    "\n",
    "Fes una funció 'sumaRecursiva' que sumi tots els numeros des de 1 fins a 'n' de forma recursiva.\n",
    "\n",
    "Per exemple:\n",
    "\n",
    "```python\n",
    "sumaRecursiva(5) # 1 + 2 + 3 + 4 + 5 = 15\n",
    "sumaRecursiva(10) # 1 + 2 + 3 + 4 + 5 + 6 + 7 + 8 + 9 + 10 = 55\n",
    "```"
   ]
  },
  {
   "cell_type": "code",
   "execution_count": 1,
   "metadata": {},
   "outputs": [
    {
     "name": "stdout",
     "output_type": "stream",
     "text": [
      "15\n",
      "55\n"
     ]
    }
   ],
   "source": [
    "# Resol aquí l'exercici 0"
   ]
  },
  {
   "cell_type": "markdown",
   "metadata": {},
   "source": [
    "## Exercici 1\n",
    "\n",
    "Fes una funció 'fibonacci' que calculi el numero de fibonacci de 'n' de forma recursiva.\n",
    "\n",
    "El número de fibonacci de 'n' és la suma dels dos numeros de fibonacci anteriors a 'n', tenint en compte que el numero de fibonacci de 0 és 0 i el numero de fibonacci de 1 és 1.\n",
    "\n",
    "fibonnaci(n) és fibonnaci(n-2) + fibonnaci(n-1) o bé 1 si és 1 o 0 si és 0\n",
    "\n",
    "Per exemple:\n",
    "\n",
    "```python\n",
    "fibonacci(0) # 0\n",
    "fibonacci(1) # 1\n",
    "fibonacci(2) # 1 + 0 = 1\n",
    "fibonacci(3) # 1 + 1 = 2\n",
    "fibonacci(4) # 2 + 1 = 3\n",
    "fibonacci(5) # 3 + 2 = 5\n",
    "fibonacci(6) # 5 + 3 = 8\n",
    "fibonacci(7) # 8 + 5 = 13\n",
    "fibonacci(8) # 13 + 8 = 21\n",
    "fibonacci(9) # 21 + 13 = 34\n",
    "fibonacci(10) # 34 + 21 = 55\n",
    "...\n",
    "```"
   ]
  },
  {
   "cell_type": "code",
   "execution_count": null,
   "metadata": {},
   "outputs": [],
   "source": [
    "# Resol aquí l'exercici 1\n"
   ]
  },
  {
   "cell_type": "markdown",
   "metadata": {},
   "source": [
    "## Exercici 2\n",
    "\n",
    "Fes una funció 'inverteix' que inverteixi una llista de forma recursiva.\n",
    "\n",
    "Per exemple:\n",
    "\n",
    "```python\n",
    "inverteix([1, 2, 3, 4, 5]) # [5, 4, 3, 2, 1]\n",
    "inverteix([1, 2, 3, 4, 5, 6]) # [6, 5, 4, 3, 2, 1]\n",
    "``````\n"
   ]
  },
  {
   "cell_type": "code",
   "execution_count": null,
   "metadata": {},
   "outputs": [],
   "source": [
    "# Fes aquí l'exercici 2"
   ]
  },
  {
   "cell_type": "markdown",
   "metadata": {},
   "source": [
    "## Exercici 3\n",
    "\n",
    "Fes una funció 'mcd(a, b)' que calculi el màxim comú divisor de dos números fent servir l'algorisme d'Euclides de forma recursiva.\n",
    "\n",
    "L'algorisme d'Euclides diu que donats dos números enters positius 'a' i 'b', el màxim comú divisor és el següent:\n",
    "\n",
    "- Si 'a' és igual a 'b', el màxim comú divisor és 'a'.\n",
    "- Si 'a' és més gran que 'b', el màxim comú divisor és el màxim comú divisor de 'a - b' i 'b'.\n",
    "- Si 'b' és més gran que 'a', el màxim comú divisor és el màxim comú divisor de 'a' i 'b - a'.\n",
    "\n",
    "Per exemple, passos per calcular el màxim comú divisor de 48 i 18:\n",
    "```python\n",
    "mcd(48, 18)\n",
    "- 48 > 18, el màxim comú divisor és el mateix que entre 30 i 18.\n",
    "mcd(30, 18)\n",
    "- 30 > 18, el màxim comú divisor és el mateix que entre 12 i 18.\n",
    "mcd(12, 18)\n",
    "- 18 > 12, el màxim comú divisor és el mateix que entre 12 i 6.\n",
    "mcd(12, 6)\n",
    "- 12 > 6,  el màxim comú divisor és el mateix que entre 6 i 6.\n",
    "mcd(6, 6)\n",
    "- 6 és igual a 6, per tant el màxim comú divisor de 6 i 6 és 6.\n",
    "```\n",
    "\n",
    "Exemples:\n",
    "```python\n",
    "mcd(10, 5) # 5\n",
    "mcd(5, 10) # 5\n",
    "mcd(10, 3) # 1\n",
    "mcd(3, 10) # 1\n",
    "mcd(10, 10) # 10\n",
    "mcd(10, 0) # 10\n",
    "```"
   ]
  },
  {
   "cell_type": "code",
   "execution_count": null,
   "metadata": {},
   "outputs": [],
   "source": [
    "# Fes aquí l'exercici 3"
   ]
  },
  {
   "cell_type": "markdown",
   "metadata": {},
   "source": [
    "## Exercici 4\n",
    "\n",
    "Escriu la funció 'potencia(x,y)' que calculi la potència de 'x' elevat a 'y' de forma recursiva.\n",
    "\n",
    "Per exemple:\n",
    "```python\n",
    "potencia(2, 3) # 2 * 2 * 2 = 8\n",
    "potencia(3, 3) # 3 * 3 * 3 = 27\n",
    "``````"
   ]
  },
  {
   "cell_type": "code",
   "execution_count": null,
   "metadata": {},
   "outputs": [],
   "source": [
    "# Feu aquí l'exercici 4"
   ]
  },
  {
   "cell_type": "markdown",
   "metadata": {},
   "source": [
    "## Exercici 5\n",
    "\n",
    "Fes una funció producteSumes(a, b) que calculi el producte de 'a' i 'b' fent servir sumes de forma recursiva.\n",
    "\n",
    "Per exemple:\n",
    "```python\n",
    "producteSumes(2, 3) # 2 + 2 + 2 = 6\n",
    "producteSumes(3, 3) # 3 + 3 + 3 = 9\n",
    "```"
   ]
  },
  {
   "cell_type": "code",
   "execution_count": null,
   "metadata": {},
   "outputs": [],
   "source": [
    "# Feu aquí l'exercici 5"
   ]
  }
 ],
 "metadata": {
  "kernelspec": {
   "display_name": "Python 3",
   "language": "python",
   "name": "python3"
  },
  "language_info": {
   "codemirror_mode": {
    "name": "ipython",
    "version": 3
   },
   "file_extension": ".py",
   "mimetype": "text/x-python",
   "name": "python",
   "nbconvert_exporter": "python",
   "pygments_lexer": "ipython3",
   "version": "3.11.5"
  }
 },
 "nbformat": 4,
 "nbformat_minor": 2
}
