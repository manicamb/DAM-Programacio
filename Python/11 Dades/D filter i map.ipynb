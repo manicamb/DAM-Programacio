{
 "cells": [
  {
   "cell_type": "markdown",
   "metadata": {},
   "source": [
    "<div style=\"display: flex; width: 100%;\">\n",
    "    <div style=\"flex: 1; padding: 0px;\">\n",
    "        <p>© Albert Palacios Jiménez, 2023</p>\n",
    "    </div>\n",
    "    <div style=\"flex: 1; padding: 0px; text-align: right;\">\n",
    "        <img src=\"../assets/ieti.png\" height=\"32\" alt=\"Logo de IETI\" style=\"max-height: 32px;\">\n",
    "    </div>\n",
    "</div>\n",
    "<hr/>"
   ]
  },
  {
   "cell_type": "markdown",
   "metadata": {},
   "source": [
    "# Dades, filtres i mapejats\n",
    "\n",
    "Habitualment, els bucles **for** es fan servir per recórrer llistes, i principalment per tres motius:\n",
    "\n",
    "* Per mapejar els elements d'una llista (aplicar una funció a cada element de la llista).\n",
    "* Per filtrar els elements d'una llista (escollir els elements que compleixen una condició).\n",
    "* Ordenar una llista segons algun criteri.\n",
    "\n",
    "Com que aquests tres motius són molt habituals, Python disposa de les funcions: `map`, `filter` i `sorted` per fer aquestes operacions."
   ]
  },
  {
   "cell_type": "markdown",
   "metadata": {},
   "source": [
    "## Funció 'map'\n",
    "\n",
    "La funció `map` aplica una funció a tots els elements d'una llista. \n",
    "\n",
    "Per exemple:\n",
    "* Si volem processar tots els elements d'una llista.\n",
    "* Volem aplicar una funció a tots els elements d'una llista."
   ]
  },
  {
   "cell_type": "code",
   "execution_count": null,
   "metadata": {},
   "outputs": [],
   "source": [
    "# Exemple de 'quadrat' amb un for (tradicional)\n",
    "nums = [2, 4, 8, 16, 32]\n",
    "numsQuadrats = []\n",
    "\n",
    "for x in nums:\n",
    "    numsQuadrats.append(x * x)\n",
    "\n",
    "print(numsQuadrats)"
   ]
  },
  {
   "cell_type": "code",
   "execution_count": null,
   "metadata": {},
   "outputs": [],
   "source": [
    "# Exemple de 'quadrat' amb un map\n",
    "nums = [2, 4, 8, 16, 32]\n",
    "numsQuadrats = list(map(lambda x: x * x, nums))\n",
    "\n",
    "print(numsQuadrats)"
   ]
  },
  {
   "cell_type": "code",
   "execution_count": null,
   "metadata": {},
   "outputs": [],
   "source": [
    "# Exemple de cridar una funció en un for (tradicional)\n",
    "lst = ['a', 'b', 'c', 'd', 'e']\n",
    "rst = []\n",
    "\n",
    "def add_char(chr):\n",
    "    return chr + '>'\n",
    "\n",
    "for x in lst:\n",
    "    rst.append(add_char(x))\n",
    "\n",
    "print(rst)"
   ]
  },
  {
   "cell_type": "code",
   "execution_count": null,
   "metadata": {},
   "outputs": [],
   "source": [
    "# Exemple de cridar una funció en un map\n",
    "# Només cal passar el nom de la funció, sense parèntesis\n",
    "lst = ['a', 'b', 'c', 'd', 'e']\n",
    "\n",
    "def add_char(chr):\n",
    "    return chr + '>'\n",
    "\n",
    "rst = list(map(lambda x:add_char(x), lst))\n",
    "\n",
    "print(rst)"
   ]
  },
  {
   "cell_type": "code",
   "execution_count": null,
   "metadata": {},
   "outputs": [],
   "source": [
    "# Exemple de cridar una funció en un for (tradicional)\n",
    "lst = [3, 6, 9, 12, 15]\n",
    "rst3 = []\n",
    "rst5 = []\n",
    "\n",
    "def mult_value(num, value):\n",
    "    return num * value\n",
    "\n",
    "for x in lst:\n",
    "    rst3.append(mult_value(x, 3))\n",
    "\n",
    "for x in lst:\n",
    "    rst5.append(mult_value(x, 5))\n",
    "\n",
    "print(rst3)\n",
    "print(rst5)"
   ]
  },
  {
   "cell_type": "code",
   "execution_count": null,
   "metadata": {},
   "outputs": [],
   "source": [
    "# Exemple de cridar una funció en un map\n",
    "# Només cal passar el nom de la funció, sense parèntesis\n",
    "# Exemple de cridar una funció en un for (tradicional)\n",
    "lst = [3, 6, 9, 12, 15]\n",
    "\n",
    "def mult_value(num, value):\n",
    "    return num * value\n",
    "\n",
    "rst3 = list(map(lambda x: mult_value(x, 3), lst))\n",
    "rst5 = list(map(lambda x: mult_value(x, 3), lst))\n",
    "\n",
    "print(rst3)\n",
    "print(rst5)"
   ]
  },
  {
   "cell_type": "markdown",
   "metadata": {},
   "source": [
    "## Exercici 0\n",
    "\n",
    "Fes un programa que donat un array de textos, retorni l'invers de cada text.\n",
    "\n",
    "Per exemple:\n",
    "\n",
    "[\"hola\", \"que\", \"tal\"] -> [\"aloh\", \"euq\", \"lat\"]"
   ]
  },
  {
   "cell_type": "code",
   "execution_count": null,
   "metadata": {},
   "outputs": [],
   "source": [
    "# Recordeu que es poden invertir les cadenes amb [::-1]\n",
    "cadena = \"Hola, món!\"\n",
    "cadena_invertida = cadena[::-1]\n",
    "print(cadena_invertida)"
   ]
  },
  {
   "cell_type": "code",
   "execution_count": null,
   "metadata": {},
   "outputs": [],
   "source": [
    "# Fes aquí el codi de l'exercici 0 amb un 'for' tradicional"
   ]
  },
  {
   "cell_type": "code",
   "execution_count": null,
   "metadata": {},
   "outputs": [],
   "source": [
    "# Fes aquí el codi de l'exercici 0 amb un 'map'"
   ]
  },
  {
   "cell_type": "markdown",
   "metadata": {},
   "source": [
    "## Exercici 1\n",
    "\n",
    "Fes un programa que donat un array amb parelles de nombres, retorni la suma de cada parella.\n",
    "\n",
    "Per exemple:\n",
    "\n",
    "[[1, 2], [3, 4], [5, 6]] -> [3, 7, 11]"
   ]
  },
  {
   "cell_type": "code",
   "execution_count": null,
   "metadata": {},
   "outputs": [],
   "source": [
    "# Fes aquí el codi de l'exercici 1 amb un 'for' tradicional"
   ]
  },
  {
   "cell_type": "code",
   "execution_count": null,
   "metadata": {},
   "outputs": [],
   "source": [
    "# Fes aquí el codi de l'exercici 1 amb un 'map'"
   ]
  },
  {
   "cell_type": "markdown",
   "metadata": {},
   "source": [
    "## Funció 'filter'\n",
    "\n",
    "La funció `filter` retorna una llista amb els elements que compleixen una condició.\n",
    "\n",
    "És a dir, els filtres o les funcions que fan de filtre han de tornar True si es compleix la condició o False si no."
   ]
  },
  {
   "cell_type": "code",
   "execution_count": null,
   "metadata": {},
   "outputs": [],
   "source": [
    "# Exemple de 'filtrar parells' amb un for (tradicional)\n",
    "nums = [5, 6, 7, 8, 9, 10]\n",
    "parells = []\n",
    "\n",
    "for x in nums:\n",
    "    if (x % 2 == 0):\n",
    "        parells.append(x)\n",
    "\n",
    "print(parells)"
   ]
  },
  {
   "cell_type": "code",
   "execution_count": null,
   "metadata": {},
   "outputs": [],
   "source": [
    "# Exemple de 'filtrar parells' amb un filter\n",
    "nums = [5, 6, 7, 8, 9, 10]\n",
    "parells = list(filter(lambda x: x % 2 == 0, nums))\n",
    "\n",
    "print(parells)"
   ]
  },
  {
   "cell_type": "code",
   "execution_count": null,
   "metadata": {},
   "outputs": [],
   "source": [
    "# Exemple de 'filtrar paraules que començen en a' amb un for (tradicional)\n",
    "lst = ['aigua', 'pa', 'oli', 'arròs', 'sucre', 'sal', 'ametlla']\n",
    "paraulesA = []\n",
    "\n",
    "for x in lst:\n",
    "    if (x[0] == 'a'):\n",
    "        paraulesA.append(x)\n",
    "\n",
    "print(paraulesA)"
   ]
  },
  {
   "cell_type": "code",
   "execution_count": null,
   "metadata": {},
   "outputs": [],
   "source": [
    "# Exemple de 'filtrar paraules que començen en a' amb un filter\n",
    "lst = ['aigua', 'pa', 'oli', 'arròs', 'sucre', 'sal', 'ametlla']\n",
    "paraulesA = list(filter(lambda x: x[0] == 'a', lst))\n",
    "\n",
    "print(paraulesA)"
   ]
  },
  {
   "cell_type": "code",
   "execution_count": null,
   "metadata": {},
   "outputs": [],
   "source": [
    "# Exemple de 'filtrar cridant una funció' amb un for (tradicional)\n",
    "# Paraules que començen i acaben en 'a'\n",
    "lst = ['aigua', 'pa', 'oli', 'arròs', 'sucre', 'sal', 'ametlla']\n",
    "paraulesAA = []\n",
    "\n",
    "def paraulaAA(par):\n",
    "    return par[0] == 'a' and par[-1] == 'a'\n",
    "\n",
    "for x in lst:\n",
    "    if (paraulaAA(x)):\n",
    "        paraulesAA.append(x)\n",
    "\n",
    "print(paraulesAA)"
   ]
  },
  {
   "cell_type": "code",
   "execution_count": null,
   "metadata": {},
   "outputs": [],
   "source": [
    "# Exemple de 'filtrar cridant una funció' amb un filter\n",
    "# Paraules que començen i acaben en 'a'\n",
    "lst = ['aigua', 'pa', 'oli', 'arròs', 'sucre', 'sal', 'ametlla']\n",
    "\n",
    "def paraulaAA(par):\n",
    "    return par[0] == 'a' and par[-1] == 'a'\n",
    "\n",
    "paraulesAA = list(filter(lambda x: paraulaAA(x), lst))\n",
    "\n",
    "print(paraulesAA)\n"
   ]
  },
  {
   "cell_type": "markdown",
   "metadata": {},
   "source": [
    "## Exercici 2\n",
    "\n",
    "Fes un programa que donat el següent array de paraules, retorni les que tenen un número parell de caràcters (lletres).\n",
    "\n",
    "Per exemple:\n",
    "\n",
    "['aigua', 'pa', 'oli', 'patata', 'julivert', 'sal', 'ametlla'] => ['pa', 'patata', 'julivert']"
   ]
  },
  {
   "cell_type": "code",
   "execution_count": null,
   "metadata": {},
   "outputs": [],
   "source": [
    "# Fes aquí el codi de l'exercici 2 amb un 'for' tradicional"
   ]
  },
  {
   "cell_type": "code",
   "execution_count": null,
   "metadata": {},
   "outputs": [],
   "source": [
    "# Fes aquí el codi de l'exercici 2 amb un 'filter'"
   ]
  },
  {
   "cell_type": "markdown",
   "metadata": {},
   "source": [
    "## Exercici 3\n",
    "\n",
    "Fes un programa que donat el següent diccionari, retorni les persones adultes (majors de 18 anys)."
   ]
  },
  {
   "cell_type": "code",
   "execution_count": null,
   "metadata": {},
   "outputs": [],
   "source": [
    "# Fes aquí el codi de l'exercici 3 amb un 'for' tradicional\n",
    "persones = [\n",
    "    { 'nom': 'Joan',  'edat': 10 },\n",
    "    { 'nom': 'Maria', 'edat': 30 },\n",
    "    { 'nom': 'Pere',  'edat': 16 },\n",
    "    { 'nom': 'Laura', 'edat': 18 },\n",
    "    { 'nom': 'David', 'edat': 25 },\n",
    "    { 'nom': 'Ana',   'edat': 17 }\n",
    "]"
   ]
  },
  {
   "cell_type": "code",
   "execution_count": null,
   "metadata": {},
   "outputs": [],
   "source": [
    "# Fes aquí el codi de l'exercici 3 amb un 'map'\n",
    "persones = [\n",
    "    { 'nom': 'Joan',  'edat': 10 },\n",
    "    { 'nom': 'Maria', 'edat': 30 },\n",
    "    { 'nom': 'Pere',  'edat': 16 },\n",
    "    { 'nom': 'Laura', 'edat': 18 },\n",
    "    { 'nom': 'David', 'edat': 25 },\n",
    "    { 'nom': 'Ana',   'edat': 17 }\n",
    "]"
   ]
  },
  {
   "cell_type": "markdown",
   "metadata": {},
   "source": [
    "## Exercici 4\n",
    "\n",
    "Fes un programa que donat el següent diccionari, retorni les persones que fan 'natació'"
   ]
  },
  {
   "cell_type": "code",
   "execution_count": null,
   "metadata": {},
   "outputs": [],
   "source": [
    "# Fes aquí el codi de l'exercici 4 amb un 'for' tradicional\n",
    "persones = [\n",
    "    { 'nom': 'Joan',  'edat': 10, 'aficions': ['natació', 'lectura'] },\n",
    "    { 'nom': 'Maria', 'edat': 30, 'aficions': ['pintura', 'ballar', 'natació'] },\n",
    "    { 'nom': 'Pere',  'edat': 16, 'aficions': ['fotografía', 'escalada'] },\n",
    "    { 'nom': 'Laura', 'edat': 18, 'aficions': ['ballar', 'viatjar'] },\n",
    "    { 'nom': 'David', 'edat': 25, 'aficions': ['jardineria', 'natació'] },\n",
    "    { 'nom': 'Ana',   'edat': 17, 'aficions': ['cuina', 'ballar'] }\n",
    "]"
   ]
  },
  {
   "cell_type": "code",
   "execution_count": null,
   "metadata": {},
   "outputs": [],
   "source": [
    "# Fes aquí el codi de l'exercici 4 amb un 'map'\n",
    "persones = [\n",
    "    { 'nom': 'Joan',  'edat': 10, 'aficions': ['natació', 'lectura'] },\n",
    "    { 'nom': 'Maria', 'edat': 30, 'aficions': ['pintura', 'ballar', 'natació'] },\n",
    "    { 'nom': 'Pere',  'edat': 16, 'aficions': ['fotografía', 'escalada'] },\n",
    "    { 'nom': 'Laura', 'edat': 18, 'aficions': ['ballar', 'viatjar'] },\n",
    "    { 'nom': 'David', 'edat': 25, 'aficions': ['jardineria', 'natació'] },\n",
    "    { 'nom': 'Ana',   'edat': 17, 'aficions': ['cuina', 'ballar'] }\n",
    "]"
   ]
  },
  {
   "cell_type": "markdown",
   "metadata": {},
   "source": [
    "## Exercici 5\n",
    "\n",
    "Fes un programa python, que donat el diccionari següent, retorni un nou diccionari amb les persones que els agrada 'ballar'. Aquest diccionari ha de tenir:\n",
    "\n",
    "* nom: el nom de la persona\n",
    "* jubilacio: els anys que falten perquè es jubili\n",
    "\n",
    "Tenim en compte que les persones es jubilen als 65 anys"
   ]
  },
  {
   "cell_type": "code",
   "execution_count": null,
   "metadata": {},
   "outputs": [],
   "source": [
    "# Fes aquí el codi de l'exercici 5 SENSE 'filter' ni 'map'\n",
    "persones = [\n",
    "    { 'nom': 'Joan',  'edat': 10, 'aficions': ['natació', 'lectura'] },\n",
    "    { 'nom': 'Maria', 'edat': 30, 'aficions': ['pintura', 'ballar', 'natació'] },\n",
    "    { 'nom': 'Pere',  'edat': 16, 'aficions': ['fotografía', 'escalada'] },\n",
    "    { 'nom': 'Laura', 'edat': 18, 'aficions': ['ballar', 'viatjar'] },\n",
    "    { 'nom': 'David', 'edat': 25, 'aficions': ['jardineria', 'natació'] },\n",
    "    { 'nom': 'Ana',   'edat': 17, 'aficions': ['cuina', 'ballar'] }\n",
    "]"
   ]
  },
  {
   "cell_type": "code",
   "execution_count": null,
   "metadata": {},
   "outputs": [],
   "source": [
    "# Fes aquí el codi de l'exercici 5 fent servir 'filter' i 'map'\n",
    "persones = [\n",
    "    { 'nom': 'Joan',  'edat': 10, 'aficions': ['natació', 'lectura'] },\n",
    "    { 'nom': 'Maria', 'edat': 30, 'aficions': ['pintura', 'ballar', 'natació'] },\n",
    "    { 'nom': 'Pere',  'edat': 16, 'aficions': ['fotografía', 'escalada'] },\n",
    "    { 'nom': 'Laura', 'edat': 18, 'aficions': ['ballar', 'viatjar'] },\n",
    "    { 'nom': 'David', 'edat': 25, 'aficions': ['jardineria', 'natació'] },\n",
    "    { 'nom': 'Ana',   'edat': 17, 'aficions': ['cuina', 'ballar'] }\n",
    "]"
   ]
  }
 ],
 "metadata": {
  "kernelspec": {
   "display_name": "Python 3",
   "language": "python",
   "name": "python3"
  },
  "language_info": {
   "codemirror_mode": {
    "name": "ipython",
    "version": 3
   },
   "file_extension": ".py",
   "mimetype": "text/x-python",
   "name": "python",
   "nbconvert_exporter": "python",
   "pygments_lexer": "ipython3",
   "version": "3.9.6"
  },
  "orig_nbformat": 4
 },
 "nbformat": 4,
 "nbformat_minor": 2
}
