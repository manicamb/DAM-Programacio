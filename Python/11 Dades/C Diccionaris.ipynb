{
 "cells": [
  {
   "cell_type": "markdown",
   "metadata": {},
   "source": [
    "<div style=\"display: flex; width: 100%;\">\n",
    "    <div style=\"flex: 1; padding: 0px;\">\n",
    "        <p>© Albert Palacios Jiménez, 2023</p>\n",
    "    </div>\n",
    "    <div style=\"flex: 1; padding: 0px; text-align: right;\">\n",
    "        <img src=\"../assets/ieti.png\" height=\"32\" alt=\"Logo de IETI\" style=\"max-height: 32px;\">\n",
    "    </div>\n",
    "</div>\n",
    "<hr/>"
   ]
  },
  {
   "cell_type": "markdown",
   "metadata": {},
   "source": [
    "# Dades, diccionaris\n",
    "\n",
    "Els diccionaris permeten guardar dades de manera organitzada.\n",
    "\n",
    "Els diccionaris són objectes que tenen un conjunt de claus i valors.\n",
    "\n",
    "* Per accedir als valors del diccionari, s'utilitza la clau.\n",
    "* Les claus, són úniques, i els valors poden ser qualsevol cosa.\n",
    "* Les claus van entre cometes, els valors segons el tipus de dades que contenen.\n",
    "* Els elements es separen per ',' excepte l'últim (igual que els arrays)"
   ]
  },
  {
   "cell_type": "code",
   "execution_count": null,
   "metadata": {},
   "outputs": [],
   "source": [
    "# Exemple de diccionari\n",
    "dic = {\n",
    "    'nom' : 'Joan' ,  \n",
    "    'edat' :  25 ,  \n",
    "    'cognoms' : 'Perez' \n",
    "}\n",
    "\n",
    "# En aquest exemple les claus són \"nom\", \"edat\" i \"cognoms\"\n",
    "\n",
    "# Per obtenir un valor, es fa servir la clau entre claudàtors []\n",
    "valor_nom = dic['nom']\n",
    "print(f\"El nom és: {valor_nom}\")\n",
    "\n",
    "# Per modificar un valor, també es fa servir la clau entre claudàtors []\n",
    "dic['edat'] = 75\n",
    "print(dic)"
   ]
  },
  {
   "cell_type": "code",
   "execution_count": null,
   "metadata": {},
   "outputs": [],
   "source": [
    "# Exemple de dibuixar un diccionari \"bonic\"\n",
    "import json\n",
    "\n",
    "def diccionari_bonic(dic):\n",
    "    return json.dumps(dic, indent = 2)\n",
    "\n",
    "dic = {\n",
    "    'nom' : 'Joan' ,  \n",
    "    'edat' :  25 ,  \n",
    "    'cognoms' : 'Perez',\n",
    "    'aficions': {\n",
    "        'muntanya': [\"escalada\", \"esqui\"],\n",
    "        'mar': [\"pesca\", \"snorkel\"]\n",
    "    } \n",
    "}\n",
    "\n",
    "# Si es vol dibuixar el diccionari 'bonic', es pot fer servir 'json.dumps'\n",
    "diccionari_arreglat = diccionari_bonic(dic)\n",
    "print(diccionari_arreglat)"
   ]
  },
  {
   "cell_type": "markdown",
   "metadata": {},
   "source": [
    "## Afegir i esborrar elements d'un diccionari\n",
    "\n",
    "Els diccionaris poden créixer i disminuir de mida, afegint i esborrant elements.\n",
    "\n",
    "* Per afegir un element a un diccionari, s'utilitza `diccionari[clau] = valor`.\n",
    "* Per treure un element d'un diccionari, s'utilitza `del diccionari[clau]`."
   ]
  },
  {
   "cell_type": "code",
   "execution_count": null,
   "metadata": {},
   "outputs": [],
   "source": [
    "# Exemple d'afegir elements a un diccionari\n",
    "import json\n",
    "\n",
    "def diccionari_bonic(dic):\n",
    "    return json.dumps(dic, indent = 4, ensure_ascii=False)\n",
    "\n",
    "dic = {\n",
    "    'nom' : 'Joan' ,  \n",
    "    'edat' :  25 ,  \n",
    "    'cognoms' : 'Perez' \n",
    "}\n",
    "print(f'Diccionari original: {diccionari_bonic(dic)}')\n",
    "\n",
    "dic['alt'] = 185\n",
    "print(f'Diccionari afegint \"alt\": {diccionari_bonic(dic)}')\n"
   ]
  },
  {
   "cell_type": "code",
   "execution_count": null,
   "metadata": {},
   "outputs": [],
   "source": [
    "# Exemple d'eliminar elements d'un diccionari\n",
    "import json\n",
    "\n",
    "def diccionari_bonic(dic):\n",
    "    return json.dumps(dic, indent = 4, ensure_ascii=False)\n",
    "\n",
    "dic = {\n",
    "    'nom' : 'Joan' ,  \n",
    "    'edat' :  25 ,  \n",
    "    'cognoms' : 'Perez' \n",
    "}\n",
    "print(f'Diccionari original: {diccionari_bonic(dic)}')\n",
    "\n",
    "del dic['edat']\n",
    "print(f'Diccionari treient \"edat\": {diccionari_bonic(dic)}')"
   ]
  },
  {
   "cell_type": "markdown",
   "metadata": {},
   "source": [
    "## Diccionaris amb diccionaris\n",
    "\n",
    "Els diccionaris poden contenir tot tipus de dades: int, float, str, bool, arrays, diccionaris..."
   ]
  },
  {
   "cell_type": "code",
   "execution_count": null,
   "metadata": {},
   "outputs": [],
   "source": [
    "# Exemple de diccionaris amb diccionaris\n",
    "import json\n",
    "\n",
    "def diccionari_bonic(dic):\n",
    "    return json.dumps(dic, indent = 4, ensure_ascii=False)\n",
    "\n",
    "dic = {\n",
    "    'nom' : 'Joan' ,  \n",
    "    'edat' :  25 ,  \n",
    "    'cognoms' : 'Perez',\n",
    "    'notes': {\n",
    "        'mat': 7,\n",
    "        'fis': 6,\n",
    "        'qui': 8\n",
    "    }\n",
    "}\n",
    "print(diccionari_bonic(dic))"
   ]
  },
  {
   "cell_type": "markdown",
   "metadata": {},
   "source": [
    "## Copiar diccionaris\n",
    "\n",
    "Al ser objectes complexes, els diccionaris **NO** es poden copiar amb un \"=\"\n",
    "\n",
    "Per copiar un diccionari cal fer servir 'copy()'"
   ]
  },
  {
   "cell_type": "code",
   "execution_count": null,
   "metadata": {},
   "outputs": [],
   "source": [
    "# Exemple de copiar un diccionari\n",
    "import json\n",
    "\n",
    "def diccionari_bonic(dic):\n",
    "    return json.dumps(dic, indent = 4, ensure_ascii=False)\n",
    "\n",
    "dicJoan = {\n",
    "    'nom' : 'Joan' ,  \n",
    "    'edat' :  25 ,  \n",
    "    'cognoms' : 'Perez',\n",
    "    'notes': {\n",
    "        'mat': 7,\n",
    "        'fis': 6,\n",
    "        'qui': 8\n",
    "    }\n",
    "}\n",
    "dicManel = dicJoan.copy()\n",
    "dicManel['nom'] = 'Manel'\n",
    "print(diccionari_bonic(dicJoan))\n",
    "print(diccionari_bonic(dicManel))"
   ]
  },
  {
   "cell_type": "markdown",
   "metadata": {},
   "source": [
    "## Operacions amb diccionaris\n",
    "\n",
    "Aquestes són les operacions que es poden fer amb els diccionaris:\n",
    "\n",
    "* `len(diccionari)`: retorna el nombre d'elements del diccionari\n",
    "* `diccionari.keys()`: retorna una llista amb les claus del diccionari (amb list)\n",
    "* `diccionari.values()`: retorna una llista amb els valors del diccionari (amb list)\n",
    "* `dict.fromkeys(llista)`: retorna un diccionari amb les claus de la llista i valors buits\n",
    "* `dict.update(diccionari)`: afegeix els elements del diccionari al diccionari"
   ]
  },
  {
   "cell_type": "code",
   "execution_count": null,
   "metadata": {},
   "outputs": [],
   "source": [
    "# Exemple de longitud d'un diccionari\n",
    "dic = {\n",
    "    'nom' : 'Joan' ,  \n",
    "    'edat' :  25 ,  \n",
    "    'cognoms' : 'Perez',\n",
    "    'notes': {\n",
    "        'mat': 7,\n",
    "        'fis': 6,\n",
    "        'qui': 8\n",
    "    }\n",
    "}\n",
    "\n",
    "longitud_dic = len(dic)\n",
    "longitud_notes = len(dic['notes'])\n",
    "print(f\"Longitud del diccionari: {longitud_dic}\")\n",
    "print(f\"Longitud del diccionari de 'notes': {longitud_notes}\")"
   ]
  },
  {
   "cell_type": "code",
   "execution_count": null,
   "metadata": {},
   "outputs": [],
   "source": [
    "# Exemple d'obtenir les claus d'un diccionari\n",
    "dic = {\n",
    "    'nom' : 'Joan' ,  \n",
    "    'edat' :  25 ,  \n",
    "    'cognoms' : 'Perez',\n",
    "    'notes': {\n",
    "        'mat': 7,\n",
    "        'fis': 6,\n",
    "        'qui': 8\n",
    "    }\n",
    "}\n",
    "\n",
    "claus_dic = list(dic.keys())\n",
    "print(f\"Claus del diccionari: {claus_dic}\")\n",
    "print(f\"Primera clau del diccionari: {claus_dic[0]}\")\n",
    "\n",
    "claus_notes = list(dic['notes'].keys())\n",
    "print(f\"Claus del diccionari de 'notes': {claus_notes}\")\n",
    "print(f\"Segona clau del diccionari 'notes': {claus_notes[1]}\")"
   ]
  },
  {
   "cell_type": "code",
   "execution_count": null,
   "metadata": {},
   "outputs": [],
   "source": [
    "# Exemple d'obtenir els valors d'un diccionari\n",
    "dic = {\n",
    "    'nom' : 'Joan' ,  \n",
    "    'edat' :  25 ,  \n",
    "    'cognoms' : 'Perez',\n",
    "    'notes': {\n",
    "        'mat': 7,\n",
    "        'fis': 6,\n",
    "        'qui': 8\n",
    "    }\n",
    "}\n",
    "\n",
    "claus_dic = list(dic.values())\n",
    "print(f\"Claus del diccionari: {claus_dic}\")\n",
    "print(f\"Primera clau del diccionari: {claus_dic[0]}\")\n",
    "\n",
    "valors_notes = list(dic['notes'].values())\n",
    "print(f\"Valors del diccionari de 'notes': {valors_notes}\")\n",
    "print(f\"Segon valor del diccionari 'notes': {valors_notes[1]}\")"
   ]
  },
  {
   "cell_type": "code",
   "execution_count": null,
   "metadata": {},
   "outputs": [],
   "source": [
    "# Exemple de crear un diccionari buit a partir d'una llista\n",
    "dic = dict.fromkeys(['nom', 'edat', 'cognoms'])\n",
    "print(dic)"
   ]
  },
  {
   "cell_type": "code",
   "execution_count": null,
   "metadata": {},
   "outputs": [],
   "source": [
    "# Exemple de actualitzar un diccionari amb un altre diccionari\n",
    "import json\n",
    "\n",
    "def diccionari_bonic(dic):\n",
    "    return json.dumps(dic, indent = 4, ensure_ascii=False)\n",
    "\n",
    "dic = {\n",
    "    'nom': 'Joan',\n",
    "    'edat': 25,\n",
    "    'cognoms': 'Perez'\n",
    "}\n",
    "\n",
    "nous_valors = {\n",
    "    'ciutat': 'Barcelona',\n",
    "    'ocupacio': 'Enginyer'\n",
    "}\n",
    "\n",
    "dic.update(nous_valors)\n",
    "print(diccionari_bonic(dic))"
   ]
  },
  {
   "cell_type": "markdown",
   "metadata": {},
   "source": [
    "## Exercici 0\n",
    "\n",
    "Fes un programa que demani una frase a l'usuari, i crei un diccionari associant cada paraula a la quantitat de lletres que té.\n",
    "\n",
    "Exemple:\n",
    "\n",
    "```python\n",
    "\"El gat i el gos són amics\" > {'El': 2, 'gat': 3, 'i': 1, 'el': 2, 'gos': 3, 'són': 3, 'amics': 5}\n",
    "```"
   ]
  },
  {
   "cell_type": "code",
   "execution_count": null,
   "metadata": {},
   "outputs": [],
   "source": [
    "# Resol aquí l'exercici 0"
   ]
  },
  {
   "cell_type": "markdown",
   "metadata": {},
   "source": [
    "## Exercici 1\n",
    "\n",
    "Fes un programa que permeti guardar dades de coordenades en un diccionari.\n",
    "\n",
    "El programa demana a l'usuari dues coordenades, les guarda en els respetius diccionaris.\n",
    "\n",
    "L'usuari afegeix coordenades fins que escriu 'Sortir'\n",
    "\n",
    "El programa té la funció (calcula_distancia) que calcula la distància entre dues coordenades segons:\n",
    "\n",
    "distancia = sqrt((x1 - x2)² + (y1 - y2)²)\n",
    "\n",
    "On X1 i Y1 són les coordenades del primer punt, i X2 i Y2 les del segon.\n",
    "\n",
    "El programa mostra la llista de distàncies entre totes les coordenades.\n",
    "\n",
    "El diccionari de coordenades ha de ser amb les claus \"x1\", \"y1\", \"x2\", \"y2\""
   ]
  },
  {
   "cell_type": "code",
   "execution_count": null,
   "metadata": {},
   "outputs": [],
   "source": [
    "# Fes aquí el codi de l'exercici 1\n"
   ]
  },
  {
   "cell_type": "markdown",
   "metadata": {},
   "source": [
    "## Exercici 2\n",
    "\n",
    "Fes un programa que demani una frase a l'usuari, i crei un diccionari amb totes les lletres de la frase i la quantitat de vegades que surt cada lletra"
   ]
  },
  {
   "cell_type": "code",
   "execution_count": null,
   "metadata": {},
   "outputs": [],
   "source": [
    "# Fes aquí el codi de l'exercici 2"
   ]
  },
  {
   "cell_type": "markdown",
   "metadata": {},
   "source": [
    "## Exercici 3\n",
    "\n",
    "Fes un programa que demani quants cops s'ha de tirar un dau (per exemple 1000)\n",
    "\n",
    "Aleshores, a través d'un diccionari, fes que el programa guardi la informació del número de cops que ha sortit cada valor del dau.\n",
    "\n",
    "**Important!** Recorda que el dau té 6 cares, i que ha de generar un número aleatori entre 1 i 6."
   ]
  },
  {
   "cell_type": "code",
   "execution_count": null,
   "metadata": {},
   "outputs": [],
   "source": [
    "# Fes aquí el codi de l'exercici 3"
   ]
  },
  {
   "cell_type": "markdown",
   "metadata": {},
   "source": [
    "## Funció 'zip'\n",
    "\n",
    "Habitualment, tenim llistes de dades, i volem transformar-les en diccionaris.\n",
    "\n",
    "Per fer-ho, necessitem almenys dues llistes:\n",
    "* Dades\n",
    "* Etiquetes de les dades\n",
    "\n",
    "La funció 'zip' ens permet unir dues llistes en una sola, fent servir una de les llistes com a etiquetes.\n"
   ]
  },
  {
   "cell_type": "code",
   "execution_count": null,
   "metadata": {},
   "outputs": [],
   "source": [
    "# Exemple de diccionari a partir de llistes amb un 'for' tradicional\n",
    "dades = [\"Mariona\", 18, \"Barcelona\", \"Natació\"]\n",
    "etiquetes = [\"nom\", \"edat\", \"ciutat\", \"esport\"]\n",
    "dic = {}\n",
    "\n",
    "for i in range(len(etiquetes)):\n",
    "    dic[etiquetes[i]] = dades[i]\n",
    "\n",
    "print(dic)"
   ]
  },
  {
   "cell_type": "code",
   "execution_count": null,
   "metadata": {},
   "outputs": [],
   "source": [
    "# Exemple de diccionari a partir de llistes amb 'zip'\n",
    "dades = [\"Mariona\", 18, \"Barcelona\", \"Natació\"]\n",
    "etiquetes = [\"nom\", \"edat\", \"ciutat\", \"esport\"]\n",
    "dic = dict(zip(etiquetes, dades))\n",
    "\n",
    "print(dic)"
   ]
  },
  {
   "cell_type": "markdown",
   "metadata": {},
   "source": [
    "## Exercici 4\n",
    "\n",
    "Fes un programa que retorni una llista de diccionaris a partir d'una llista amb etiquetes i una llista de llistes amb dades."
   ]
  },
  {
   "cell_type": "code",
   "execution_count": null,
   "metadata": {},
   "outputs": [],
   "source": [
    "# Fes aquí el codi de l'exercici 4 amb un 'for' tradicional\n",
    "dades = [\n",
    "[\"Doraemon\", \"Robot\", 90],\n",
    "[\"Nobita\", \"Human\", 10],\n",
    "[\"Shizuka\", \"Human\", 9],\n",
    "[\"Takeshi\", \"Human\", 11],\n",
    "[\"Dorami\", \"Robot\", 75],\n",
    "]"
   ]
  },
  {
   "cell_type": "code",
   "execution_count": null,
   "metadata": {},
   "outputs": [],
   "source": [
    "# Fes aquí el codi de l'exercici 4 amb 'zip'\n",
    "dades = [\n",
    "[\"Doraemon\", \"Robot\", 90],\n",
    "[\"Nobita\", \"Human\", 10],\n",
    "[\"Shizuka\", \"Human\", 9],\n",
    "[\"Takeshi\", \"Human\", 11],\n",
    "[\"Dorami\", \"Robot\", 75],\n",
    "]"
   ]
  },
  {
   "cell_type": "markdown",
   "metadata": {},
   "source": [
    "## Exercici 5\n",
    "\n",
    "Fes un programa que organitzi les dades d'una llista amb informació sobre les `marevelles del món` en un diccionari de diccionaris.\n",
    "\n",
    "Cada element del diccionari:\n",
    "- L'etiqueta és del tipus \"Meravella X\" on X va de 1 fins al total de meravelles\n",
    "- El valor ha de ser un diccionari amb eitquetes: Nom, Localització, Any."
   ]
  },
  {
   "cell_type": "code",
   "execution_count": null,
   "metadata": {},
   "outputs": [],
   "source": [
    "# Fes aquí el codi de l'exercici 5\n",
    "meravelles = [\n",
    "    [\"Gran Piràmide de Giza\", \"Egipte\", 4500],\n",
    "    [\"Jardins Penjants de Babilònia\", \"Babilònia (Mesopotàmia)\", 2500],\n",
    "    [\"Estàtua de Zeus a Olímpia\", \"Olímpia, Grècia\", 2500],\n",
    "    [\"Temple d'Artemisa a Èfes\", \"Èfes, Turquia\", 2400],\n",
    "    [\"Mausoleu d'Halicarnàs\", \"Halicarnàs, Turquia\", 2300],\n",
    "    [\"Colós de Rodes\", \"Illa de Rodes, Grècia\", 2300],\n",
    "    [\"Fars d'Alexandria\", \"Alexandria, Egipte\", 2200]\n",
    "]"
   ]
  },
  {
   "cell_type": "markdown",
   "metadata": {},
   "source": [
    "## Recórrer dades d'un diccionari\n",
    "\n",
    "Es poden recórrer tots els elements d'un diccionari amb un bucle `for`.\n",
    "\n",
    "També es poden obtenir totes les claus d'un diccionari.\n",
    "\n",
    "```python\n",
    "for key, value in diccionari.items():\n",
    "    print(f\"La clau '{key}' té el valor {value}\")\n",
    "```"
   ]
  },
  {
   "cell_type": "code",
   "execution_count": null,
   "metadata": {},
   "outputs": [],
   "source": [
    "diccionari = {\n",
    "    \"nom\": \"Toni\",\n",
    "    \"edat\": 24,\n",
    "    \"afició\": \"Futbol\"\n",
    "}\n",
    "\n",
    "for key, value in diccionari.items():\n",
    "    print(f\"La clau '{key}' té el valor {value}\")"
   ]
  },
  {
   "cell_type": "markdown",
   "metadata": {},
   "source": [
    "## Exercici 6\n",
    "\n",
    "Fes un programa que retorni una llista amb els noms de les persones menors d'edat, d'un diccionari amb noms de persones i edats."
   ]
  },
  {
   "cell_type": "code",
   "execution_count": null,
   "metadata": {},
   "outputs": [],
   "source": [
    "# Fes aquí el codi de l'exercici 6\n",
    "persones = {\n",
    "    \"Andrea\": 22,\n",
    "    \"Manel\": 35,\n",
    "    \"Rubén\": 12,\n",
    "    \"Laura\": 28,\n",
    "    \"Raquel\": 16,\n",
    "    \"Toni\": 18,\n",
    "    \"Sol\": 25\n",
    "}"
   ]
  }
 ],
 "metadata": {
  "kernelspec": {
   "display_name": "Python 3",
   "language": "python",
   "name": "python3"
  },
  "language_info": {
   "codemirror_mode": {
    "name": "ipython",
    "version": 3
   },
   "file_extension": ".py",
   "mimetype": "text/x-python",
   "name": "python",
   "nbconvert_exporter": "python",
   "pygments_lexer": "ipython3",
   "version": "3.9.6"
  },
  "orig_nbformat": 4
 },
 "nbformat": 4,
 "nbformat_minor": 2
}
