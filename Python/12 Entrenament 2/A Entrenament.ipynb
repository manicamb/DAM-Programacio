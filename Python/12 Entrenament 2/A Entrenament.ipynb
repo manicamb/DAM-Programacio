{
 "cells": [
  {
   "cell_type": "markdown",
   "metadata": {},
   "source": [
    "<div style=\"display: flex; width: 100%;\">\n",
    "    <div style=\"flex: 1; padding: 0px;\">\n",
    "        <p>© Albert Palacios Jiménez, 2023</p>\n",
    "    </div>\n",
    "    <div style=\"flex: 1; padding: 0px; text-align: right;\">\n",
    "        <img src=\"../assets/ieti.png\" height=\"32\" alt=\"Logo de IETI\" style=\"max-height: 32px;\">\n",
    "    </div>\n",
    "</div>\n",
    "<hr/>"
   ]
  },
  {
   "cell_type": "markdown",
   "metadata": {},
   "source": [
    "# Entrenament 2\n",
    "\n",
    "Anem a fer alguns exercicis, per anar agafant pràctica."
   ]
  },
  {
   "cell_type": "markdown",
   "metadata": {},
   "source": [
    "## Exercici 0\n",
    "\n",
    "Fes un programa que permeti guardar dades d'animals en un array d'arrays. \n",
    "\n",
    "S'han d'escriure en un input separant els camps per comes.\n",
    "\n",
    "Els camps són: Nom, Any naixament, Pes, Espècie. Per exemple:\n",
    "\n",
    "```python\n",
    "Pelut,2018,6.5,Gos\n",
    "Pelat,2020,5.0,Gos\n",
    "Mia,2022,3.0,Gat\n",
    "Nemo,2003,0.1,Peix\n",
    "Mickey,1928,0.5,Ratolí\n",
    "Donald,1934,0.5,Ànec\n",
    "```\n",
    "\n",
    "Finalment, s'ha de llistar la taula de dades que divideixi les columnes equitativament. \n",
    "\n",
    "**Nota:** Fes servir la funció (escriu_taula) de l'exercici 2 de l'apartat 'Dades (llistes avançades)"
   ]
  },
  {
   "cell_type": "code",
   "execution_count": null,
   "metadata": {},
   "outputs": [],
   "source": [
    "# Fes aquí el codi de l'exercici 0"
   ]
  },
  {
   "cell_type": "markdown",
   "metadata": {},
   "source": [
    "## Exercici 1\n",
    "\n",
    "Fes una funció (llista_animals), que busqui els animals per espècie i retorni un array.\n",
    "\n",
    "Per exemple:\n",
    "```python\n",
    "[[\"Pelut\", 2018, 6.5, \"Gos\"],\n",
    " [\"Pelat\", 2020, 5.0, \"Gos\"],\n",
    " [\"Mia\", 2022, 3.0, \"Gat\"],\n",
    " [\"Nemo\", 2003, 0.1, \"Peix\"],\n",
    " [\"Mickey\", 1928, 0.5, \"Ratolí\"],\n",
    " [\"Donald\", 1934, 0.5, \"Ànec\"]]\n",
    "```\n",
    "Filtrar per 'Gos' retorna:\n",
    "```python\n",
    "[[\"Pelut\", 2018, 6.5, \"Gos\"],\n",
    " [\"Pelat\", 2020, 5.0, \"Gos\"]\n",
    "```"
   ]
  },
  {
   "cell_type": "code",
   "execution_count": null,
   "metadata": {},
   "outputs": [],
   "source": [
    "# Fes aquí el codi de l'exercici 1 amb un bucle 'for'"
   ]
  },
  {
   "cell_type": "code",
   "execution_count": null,
   "metadata": {},
   "outputs": [],
   "source": [
    "# Fes aquí el codi de l'exercici 1 amb un 'filter'"
   ]
  },
  {
   "cell_type": "markdown",
   "metadata": {},
   "source": [
    "## Exercici 2\n",
    "\n",
    "Fes una funció (edat_animals) que calculi l'edat dels animals respecte l'any actual.\n"
   ]
  },
  {
   "cell_type": "code",
   "execution_count": null,
   "metadata": {},
   "outputs": [],
   "source": [
    "# Fes aquí el codi de l'exercici 2 amb un bucle 'for'\n",
    "animals = [\n",
    "    [\"Pelut\", 2018, 6.5, \"Gos\"],\n",
    "    [\"Pelat\", 2020, 5.0, \"Gos\"],\n",
    "    [\"Mia\", 2022, 3.0, \"Gat\"],\n",
    "    [\"Nemo\", 2003, 0.1, \"Peix\"],\n",
    "    [\"Mickey\", 1928, 0.5, \"Ratolí\"],\n",
    "    [\"Donald\", 1934, 0.5, \"Ànec\"]\n",
    "]\n",
    "\n",
    "def edat_animals():\n",
    "    pass\n",
    "\n",
    "print(edat_animals())"
   ]
  },
  {
   "cell_type": "code",
   "execution_count": null,
   "metadata": {},
   "outputs": [],
   "source": [
    "# Fes aquí el codi de l'exercici 2 amb un 'map'\n",
    "animals = [\n",
    "    [\"Pelut\", 2018, 6.5, \"Gos\"],\n",
    "    [\"Pelat\", 2020, 5.0, \"Gos\"],\n",
    "    [\"Mia\", 2022, 3.0, \"Gat\"],\n",
    "    [\"Nemo\", 2003, 0.1, \"Peix\"],\n",
    "    [\"Mickey\", 1928, 0.5, \"Ratolí\"],\n",
    "    [\"Donald\", 1934, 0.5, \"Ànec\"]\n",
    "]\n",
    "\n",
    "def edat_animals():\n",
    "    pass\n",
    "\n",
    "print(edat_animals())"
   ]
  },
  {
   "cell_type": "markdown",
   "metadata": {},
   "source": [
    "## Exercici 3\n",
    "\n",
    "Fes un programa que generi una llista de 5 números entre [0 i 999], la mostri per pantalla i finalment esculli un número aleatori de la mencionada llista.\n",
    "\n",
    "Per exemple:\n",
    "```text\n",
    "La llista generada és: [125, 2, 782, 85, 916] el número escollit és 85\n",
    "```"
   ]
  },
  {
   "cell_type": "code",
   "execution_count": null,
   "metadata": {},
   "outputs": [],
   "source": [
    "# Fes aquí el codi de l'exercici 3"
   ]
  },
  {
   "cell_type": "markdown",
   "metadata": {},
   "source": [
    "## Exercici 4\n",
    "\n",
    "Fes un programa que esculli 5 paraules a l'atzar de la següent llista i finalment les retorni en una llista desordenada aleatòriament.\n",
    "\n",
    "```python\n",
    "['gat', 'gos', 'elefant', 'lleó', 'tigre', 'ratolí', 'serp', 'peix', 'ocell', 'cavall', 'koala', 'tiburó', 'formiga']\n",
    "```\n",
    "\n",
    "Per exemple:\n",
    "```text\n",
    "Les paraules escollides són ['gos', 'tigre', 'peix', 'ocell', 'tiburó'], desordenats: ['tigre', 'peix', 'gos', 'tiburó', 'ocell']\n",
    "```"
   ]
  },
  {
   "cell_type": "code",
   "execution_count": null,
   "metadata": {},
   "outputs": [],
   "source": [
    "# Fes aquí el codi de l'exercici 4"
   ]
  },
  {
   "cell_type": "markdown",
   "metadata": {},
   "source": [
    "## Exercici 5\n",
    "\n",
    "Fes un programa que generi un diccionari per comptar les paraules d'una frase.\n",
    "\n",
    "Quan mostris el resultat, no mostris el diccionari sinó les paraules i el seu recompte ordenats alfàbeticament.\n",
    "\n",
    "Prova-ho amb:\n",
    "```python\n",
    "frase = \"Your time is limited, so don't waste it living someone else's life. Don't be trapped by dogma — which is living with the results of other people's thinking. Don't let the noise of others' opinions drown out your own inner voice. And most important, have the courage to follow your heart and intuition ... Stay hungry, Stay foolish\"\n",
    "\n",
    "frase = \"We choose to go to the moon in this decade and do the other things, not because they are easy, but because they are hard, because that goal will serve to organize and measure the best of our energies and skills, because that challenge is one that we are willing to accept, one we are unwilling to postpone, and one which we intend to win, and the others, too.\"\n",
    "```"
   ]
  },
  {
   "cell_type": "code",
   "execution_count": null,
   "metadata": {},
   "outputs": [],
   "source": [
    "# Fes aquí el codi de l'exercici 5"
   ]
  },
  {
   "cell_type": "markdown",
   "metadata": {},
   "source": [
    "## Exercici 6\n",
    "\n",
    "Fes un programa que transformi el següent array en un diccionari.\n",
    "\n",
    "```python\n",
    "[[\"Pelut\", 2018, 6.5, \"Gos\"],\n",
    " [\"Pelat\", 2020, 5.0, \"Gos\"],\n",
    " [\"Mia\", 2022, 3.0, \"Gat\"],\n",
    " [\"Nemo\", 2003, 0.1, \"Peix\"],\n",
    " [\"Mickey\", 1928, 0.5, \"Ratolí\"],\n",
    " [\"Donald\", 1934, 0.5, \"Ànec\"]]\n",
    "```\n",
    "El resultat ha de ser:\n",
    "```python\n",
    "[ {'nom': 'Pelut', 'any': 2018, 'pes': 6.5, 'especie': 'Gos'},\n",
    "  {'nom': 'Pelat', 'any': 2020, 'pes': 5.0, 'especie': 'Gos'},\n",
    "  {'nom': 'Mia', 'any': 2022, 'pes': 3.0, 'especie': 'Gat'},\n",
    "  {'nom': 'Nemo', 'any': 2003, 'pes': 0.1, 'especie': 'Peix'},\n",
    "  {'nom': 'Mickey', 'any': 1928, 'pes': 0.5, 'especie': 'Ratolí'},\n",
    "  {'nom': 'Donald', 'any': 1934, 'pes': 0.5, 'especie': 'Ànec'} ]\n",
    "```"
   ]
  },
  {
   "cell_type": "code",
   "execution_count": null,
   "metadata": {},
   "outputs": [],
   "source": [
    "# Fes aquí el codi de l'exercici 6 amb un bucle 'for'"
   ]
  },
  {
   "cell_type": "code",
   "execution_count": null,
   "metadata": {},
   "outputs": [],
   "source": [
    "# Fes aquí el codi de l'exercici 6 amb la funció 'zip'"
   ]
  },
  {
   "cell_type": "markdown",
   "metadata": {},
   "source": [
    "## Exercici 7\n",
    "\n",
    "Fes un programa que compti el número d'animals segons un filtre escollir per l'usuari.\n",
    "\n",
    "Per exemple:\n",
    "```python\n",
    "[ {'nom': 'Pelut', 'any': 2018, 'pes': 6.5, 'especie': 'Gos'},\n",
    "  {'nom': 'Pelat', 'any': 2020, 'pes': 5.0, 'especie': 'Gos'},\n",
    "  {'nom': 'Mia', 'any': 2022, 'pes': 3.0, 'especie': 'Gat'},\n",
    "  {'nom': 'Nemo', 'any': 2003, 'pes': 0.1, 'especie': 'Peix'},\n",
    "  {'nom': 'Mickey', 'any': 1928, 'pes': 0.5, 'especie': 'Ratolí'},\n",
    "  {'nom': 'Donald', 'any': 1934, 'pes': 0.5, 'especie': 'Ànec'} ]\n",
    "```\n",
    "Comptar animals segons filtre 'especie'>'Gos':\n",
    "```text\n",
    "    Filtre 'Gos' amb valor 'especie', n'hi ha: 2\n",
    "```\n",
    "Comptar animals segons filtre 'pes' > '0.5':\n",
    "```text\n",
    "    Filtre 'pes' amb valor '0.5', n'hi ha: 2\n",
    "```\n",
    "Comptar animals segons filtre 'nom' > 'Mickey':\n",
    "```text\n",
    "    Filtre 'nom' amb valor 'Mickey', n'hi ha: 1\n",
    "```"
   ]
  },
  {
   "cell_type": "code",
   "execution_count": null,
   "metadata": {},
   "outputs": [],
   "source": [
    "# Fes aquí el codi de l'exercici 7 fet amb un bucle 'for'"
   ]
  },
  {
   "cell_type": "code",
   "execution_count": null,
   "metadata": {},
   "outputs": [],
   "source": [
    "# Fes aquí el codi de l'exercici 7 fet amb un 'filter'"
   ]
  },
  {
   "cell_type": "markdown",
   "metadata": {},
   "source": [
    "## Exercici 8\n",
    "\n",
    "Fes un programa que permeti entrar en una llista parelles de coordenades x,y.\n",
    "\n",
    "La llista serà d'aquest estil:\n",
    "```python\n",
    "coordenades = [\n",
    "    { \"x0\": 24,  \"y0\": 12,  \"x1\": 350, \"y1\": 22 },\n",
    "    { \"x0\": 120, \"y0\": 34,  \"x1\": 22,  \"y1\": 44 },\n",
    "    { \"x0\": 134, \"y0\": 156, \"x1\": 44,  \"y1\": 66 },\n",
    "    { \"x0\": 56,  \"y0\": 780, \"x1\": 66,  \"y1\": 1000 } ]\n",
    "```\n",
    "Un cop entrades les coordenades, l'usuari escriu 'sortir'.\n",
    "\n",
    "Aleshores, el programa mostra les distàncies entre els punts segons:\n",
    "```python\n",
    "    distancia = sqrt(abs(x1 - x0) ** 2 + abs(y1 - y0) ** 2)\n",
    "```\n",
    "Comprova la llista de diccionaris anterior amb:\n",
    "```text\n",
    "    {'x0': 24, 'y0': 12, 'x1': 350, 'y1': 22}: 326.15\n",
    "    {'x0': 120, 'y0': 34, 'x1': 22, 'y1': 44}: 98.51\n",
    "    {'x0': 134, 'y0': 156, 'x1': 44, 'y1': 66}: 127.28\n",
    "    {'x0': 56, 'y0': 780, 'x1': 66, 'y1': 1000}: 220.23\n",
    "```\n",
    "\n",
    "**Nota**: Per fer servir la funció `sqrt` et farà falta fer `import math` al principi del programa.\n"
   ]
  },
  {
   "cell_type": "code",
   "execution_count": null,
   "metadata": {},
   "outputs": [],
   "source": [
    "# Fes aquí el codi de l'exercici 8 amb un bucle 'for'\n",
    "import math"
   ]
  },
  {
   "cell_type": "code",
   "execution_count": null,
   "metadata": {},
   "outputs": [],
   "source": [
    "# Fes aquí el codi de l'exercici 8 amb la funció 'map'\n",
    "import math"
   ]
  },
  {
   "cell_type": "markdown",
   "metadata": {},
   "source": [
    "## Exercici 9\n",
    "\n",
    "Fes un programa que permeti calcular la distància entre dues ciutats en Kilòmetres.\n",
    "\n",
    "El programa ha de demanar amb un input el nom de la ciutat origen i la ciutat destí.\n",
    "\n",
    "La distància en kilòmetres es calcula:\n",
    "```python\n",
    "distancia_graus = sqrt(abs(xCiutat1 - xCiutat0) ** 2 + abs(yCiutat1 - yCiutat0) ** 2)\n",
    "radi_terra_km = 6371.0\n",
    "distancia_km = distancia_graus * (2 * 3.14159265359 * radi_terra_km / 360.0)\n",
    "```\n",
    "\n",
    "Pots fer servir dues funcions:\n",
    "\n",
    "* **distancia_ciutats** que retorna la distància en graus a partir de les coordenades\n",
    "* **graus_a_km** que transforma el resultat de la funció anterior en kilòmetres"
   ]
  },
  {
   "cell_type": "code",
   "execution_count": null,
   "metadata": {},
   "outputs": [],
   "source": [
    "# Resol aquí el codi de l'exercici 9\n",
    "import math\n",
    "coordenades_ciutats = {\n",
    "    \"Barcelona\": [41.3851, 2.1734],\n",
    "    \"Paris\": [48.8566, 2.3522],\n",
    "    \"Edimburg\": [55.9533, -3.1883],\n",
    "    \"Milà\": [45.4642, 9.1900],\n",
    "    \"Berlí\": [52.5200, 13.4050], \n",
    "    \"Hamburg\": [53.5511, 9.9937],\n",
    "    \"Cracòvia\": [50.0647, 19.9450]\n",
    "}"
   ]
  },
  {
   "cell_type": "markdown",
   "metadata": {},
   "source": [
    "## Exercici 10\n",
    "\n",
    "Fes un programa que recorri un diccionari i generi un nou diccionari amb els textos de les claus i valors invertits.\n",
    "\n",
    "És a dir:\n",
    "```python\n",
    "\"Barcelona\": \"Cul de la mona\" > \"anolecraB\": \"anom ed anulC\"\n",
    "```"
   ]
  },
  {
   "cell_type": "code",
   "execution_count": null,
   "metadata": {},
   "outputs": [],
   "source": [
    "# Fes aquí el codi de l'exercici 10\n",
    "diccionari = {\n",
    "    \"Barcelona\": \"Cul de la mona\",\n",
    "    \"Paris\": \"La sobèrbia del seu país\",\n",
    "    \"Edimburg\": \"No més maca que Gurb\",\n",
    "    \"Milà\": \"Molta moda i poc paisà\",\n",
    "    \"Berlí\": \"Cada carrer és un destí\", \n",
    "    \"Hamburg\": \"On pot dinar un bon burgès\"\n",
    "}\n"
   ]
  },
  {
   "cell_type": "markdown",
   "metadata": {},
   "source": [
    "## Exercici 11\n",
    "\n",
    "Fes un programa que calculi la nota mitjana d'un grup d'alumnes, a partir d'un diccionari de noms i notes."
   ]
  },
  {
   "cell_type": "code",
   "execution_count": 1,
   "metadata": {},
   "outputs": [],
   "source": [
    "# Fes aquí el codi de l'exercici 11\n",
    "notes = {\n",
    "    \"Anna\": 9.5,\n",
    "    \"Joan\": 8.8,\n",
    "    \"Maria\": 7.5,\n",
    "    \"Pere\": 9.2,\n",
    "    \"Laura\": 7.8\n",
    "}"
   ]
  }
 ],
 "metadata": {
  "kernelspec": {
   "display_name": "Python 3",
   "language": "python",
   "name": "python3"
  },
  "language_info": {
   "codemirror_mode": {
    "name": "ipython",
    "version": 3
   },
   "file_extension": ".py",
   "mimetype": "text/x-python",
   "name": "python",
   "nbconvert_exporter": "python",
   "pygments_lexer": "ipython3",
   "version": "3.9.6"
  },
  "orig_nbformat": 4
 },
 "nbformat": 4,
 "nbformat_minor": 2
}
